{
 "cells": [
  {
   "cell_type": "code",
   "execution_count": 0,
   "metadata": {
    "application/vnd.databricks.v1+cell": {
     "cellMetadata": {
      "byteLimit": 2048000,
      "rowLimit": 10000
     },
     "inputWidgets": {},
     "nuid": "f32f0f7b-2b8b-4cb5-9cf0-f27b5098d738",
     "showTitle": false,
     "tableResultSettingsMap": {},
     "title": ""
    }
   },
   "outputs": [],
   "source": [
    "from pyspark.sql.functions import *"
   ]
  },
  {
   "cell_type": "code",
   "execution_count": 0,
   "metadata": {
    "application/vnd.databricks.v1+cell": {
     "cellMetadata": {
      "byteLimit": 2048000,
      "rowLimit": 10000
     },
     "inputWidgets": {},
     "nuid": "85a98a9d-68bf-465c-93e9-8c11d848c26a",
     "showTitle": false,
     "tableResultSettingsMap": {},
     "title": ""
    }
   },
   "outputs": [],
   "source": [
    "df_covid_bronze = spark.read.format(\"delta\").load(\"/mnt/bronze/covid19\")\n",
    "df_policyData_bronze = spark.read.format(\"delta\").load(\"/mnt/bronze/policyData\")\n",
    "df_mobilityData_bronze = spark.read.format(\"delta\").load(\"/mnt/bronze/mobilityData\")"
   ]
  },
  {
   "cell_type": "code",
   "execution_count": 0,
   "metadata": {
    "application/vnd.databricks.v1+cell": {
     "cellMetadata": {
      "byteLimit": 2048000,
      "rowLimit": 10000
     },
     "inputWidgets": {},
     "nuid": "5bebf8d7-4863-4df7-b7b2-e6c9697695ae",
     "showTitle": false,
     "tableResultSettingsMap": {},
     "title": ""
    }
   },
   "outputs": [],
   "source": [
    "df_joined = df_covid_bronze\\\n",
    "    .join(df_policyData_bronze, on=['location', 'date'],how='left')\\\n",
    "    .join(df_mobilityData_bronze, on=['location','date'],how='left')"
   ]
  },
  {
   "cell_type": "code",
   "execution_count": 0,
   "metadata": {
    "application/vnd.databricks.v1+cell": {
     "cellMetadata": {
      "byteLimit": 2048000,
      "rowLimit": 10000
     },
     "inputWidgets": {},
     "nuid": "dddd1aeb-1120-4897-93a4-bd3b63131b96",
     "showTitle": false,
     "tableResultSettingsMap": {},
     "title": ""
    }
   },
   "outputs": [],
   "source": [
    "handle_nulls = {\"total_cases\": 0,\"new_cases\": 0,\"total_deaths\": 0,\"new_deaths\": 0,\"total_tests\": 0,\n",
    "    \"new_tests\": 0,\"total_vaccinations\": 0,\"people_vaccinated\": 0,\"people_fully_vaccinated\": 0,\"stringencyindex\": 0,\"reproduction_rate\": -1,\"c1_school_closing\": -1,\"c2_workplace_closing\": -1,\n",
    "    \"c6_stay_at_home_requirements\": -1,\"h2_testing_policy\": -1,\"h3_contact_tracing\": -1,\n",
    "    \"retail_and_recreation_percent_change_from_baseline\": 0,\n",
    "    \"grocery_and_pharmacy_percent_change_from_baseline\": 0,\"workplaces_percent_change_from_baseline\": 0,\n",
    "    \"residential_percent_change_from_baseline\": 0,\n",
    "    \"c8_international_travel_controls\": -1}"
   ]
  },
  {
   "cell_type": "code",
   "execution_count": 0,
   "metadata": {
    "application/vnd.databricks.v1+cell": {
     "cellMetadata": {
      "byteLimit": 2048000,
      "rowLimit": 10000
     },
     "inputWidgets": {},
     "nuid": "d0ffaa37-39f7-4b9f-b524-339e45065437",
     "showTitle": false,
     "tableResultSettingsMap": {},
     "title": ""
    }
   },
   "outputs": [],
   "source": [
    "df_joined_2 = df_joined\\\n",
    "    .withColumn(\"year\",year(\"date\"))\\\n",
    "    .withColumn(\"month\",month(\"date\"))\\\n",
    "    .drop(\"stringency_index\")\\\n",
    "    .fillna(handle_nulls)\n"
   ]
  },
  {
   "cell_type": "code",
   "execution_count": 0,
   "metadata": {
    "application/vnd.databricks.v1+cell": {
     "cellMetadata": {
      "byteLimit": 2048000,
      "rowLimit": 10000
     },
     "inputWidgets": {},
     "nuid": "956d9a45-b945-4469-852b-58d0e39e1d92",
     "showTitle": false,
     "tableResultSettingsMap": {},
     "title": ""
    }
   },
   "outputs": [],
   "source": [
    "rename_cols = {\n",
    "    \"total_cases\": \"covid_total_cases\",\n",
    "    \"new_cases\": \"covid_new_cases\",\n",
    "    \"total_deaths\": \"covid_total_deaths\",\n",
    "    \"new_deaths\": \"covid_new_deaths\",\n",
    "    \"reproduction_rate\": \"covid_reproduction_rate\",\n",
    "    \"total_tests\": \"covid_total_tests\",\n",
    "    \"new_tests\": \"covid_new_tests\",\n",
    "    \"total_vaccinations\": \"covid_total_vax\",\n",
    "    \"people_vaccinated\": \"covid_people_vax\",\n",
    "    \"people_fully_vaccinated\": \"covid_fully_vax\",\n",
    "    \"c1_school_closing\": \"policy_school_close\",\n",
    "    \"c2_workplace_closing\": \"policy_work_close\",\n",
    "    \"c6_stay_at_home_requirements\": \"policy_stay_home\",\n",
    "    \"c8_international_travel_controls\": \"policy_travel_control\",\n",
    "    \"h2_testing_policy\": \"policy_test_policy\",\n",
    "    \"h3_contact_tracing\": \"policy_trace\",\n",
    "    \"stringencyindex\": \"policy_stringency\",\n",
    "    \"retail_and_recreation_percent_change_from_baseline\": \"mobility_retail\",\n",
    "    \"grocery_and_pharmacy_percent_change_from_baseline\": \"mobility_grocery\",\n",
    "    \"workplaces_percent_change_from_baseline\": \"mobility_workplace\",\n",
    "    \"residential_percent_change_from_baseline\": \"mobility_home\"\n",
    "}"
   ]
  },
  {
   "cell_type": "code",
   "execution_count": 0,
   "metadata": {
    "application/vnd.databricks.v1+cell": {
     "cellMetadata": {
      "byteLimit": 2048000,
      "rowLimit": 10000
     },
     "inputWidgets": {},
     "nuid": "0c0a1237-726f-4979-bc76-d5be818110ad",
     "showTitle": false,
     "tableResultSettingsMap": {},
     "title": ""
    }
   },
   "outputs": [],
   "source": [
    "df_joined_3 = df_joined_2\n",
    "for old_col,new_col in rename_cols.items():\n",
    "    df_joined_3 = df_joined_3.withColumnRenamed(old_col,new_col)"
   ]
  },
  {
   "cell_type": "code",
   "execution_count": 0,
   "metadata": {
    "application/vnd.databricks.v1+cell": {
     "cellMetadata": {
      "byteLimit": 2048000,
      "rowLimit": 10000
     },
     "inputWidgets": {},
     "nuid": "8dc16203-46c2-451a-8723-b99109270b62",
     "showTitle": false,
     "tableResultSettingsMap": {
      "0": {
       "dataGridStateBlob": "{\"version\":1,\"tableState\":{\"columnPinning\":{\"left\":[\"#row_number#\"],\"right\":[]},\"columnSizing\":{},\"columnVisibility\":{}},\"settings\":{\"columns\":{}},\"syncTimestamp\":1753963210054}",
       "filterBlob": null,
       "queryPlanFiltersBlob": null,
       "tableResultIndex": 0
      }
     },
     "title": ""
    }
   },
   "outputs": [],
   "source": [
    "df_joined_3.write \\\n",
    "    .format(\"delta\") \\\n",
    "    .mode(\"overwrite\") \\\n",
    "    .partitionBy(\"year\", \"month\") \\\n",
    "    .save(\"/mnt/silver/covid_combined\")"
   ]
  }
 ],
 "metadata": {
  "application/vnd.databricks.v1+notebook": {
   "computePreferences": null,
   "dashboards": [],
   "environmentMetadata": {
    "base_environment": "",
    "environment_version": "2"
   },
   "inputWidgetPreferences": null,
   "language": "python",
   "notebookMetadata": {
    "pythonIndentUnit": 4
   },
   "notebookName": "silver_combined_data",
   "widgets": {}
  },
  "language_info": {
   "name": "python"
  }
 },
 "nbformat": 4,
 "nbformat_minor": 0
}
