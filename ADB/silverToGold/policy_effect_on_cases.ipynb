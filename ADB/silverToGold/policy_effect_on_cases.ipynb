{
 "cells": [
  {
   "cell_type": "code",
   "execution_count": 0,
   "metadata": {
    "application/vnd.databricks.v1+cell": {
     "cellMetadata": {
      "byteLimit": 2048000,
      "rowLimit": 10000
     },
     "inputWidgets": {},
     "nuid": "12aad825-2e89-4fe1-9bf0-04c340ea24e3",
     "showTitle": false,
     "tableResultSettingsMap": {},
     "title": ""
    }
   },
   "outputs": [],
   "source": [
    "from pyspark.sql.functions import *"
   ]
  },
  {
   "cell_type": "code",
   "execution_count": 0,
   "metadata": {
    "application/vnd.databricks.v1+cell": {
     "cellMetadata": {
      "byteLimit": 2048000,
      "rowLimit": 10000
     },
     "inputWidgets": {},
     "nuid": "39c15dce-a148-48b0-a35a-fb47b7637f92",
     "showTitle": false,
     "tableResultSettingsMap": {},
     "title": ""
    }
   },
   "outputs": [],
   "source": [
    "df_policy = spark.read.format(\"delta\").load(\"/mnt/gold/monthly_policy_summary\")\n",
    "df_cases = spark.read.format(\"delta\").load(\"/mnt/gold/covid_monthly_summary\")"
   ]
  },
  {
   "cell_type": "code",
   "execution_count": 0,
   "metadata": {
    "application/vnd.databricks.v1+cell": {
     "cellMetadata": {
      "byteLimit": 2048000,
      "rowLimit": 10000
     },
     "inputWidgets": {},
     "nuid": "7541403a-f8b1-4110-b54f-585df3703749",
     "showTitle": false,
     "tableResultSettingsMap": {},
     "title": ""
    }
   },
   "outputs": [],
   "source": [
    "df_policy_effect = df_policy.join(df_cases, [\"location\", \"year\", \"month\"], \"inner\") "
   ]
  },
  {
   "cell_type": "code",
   "execution_count": 0,
   "metadata": {
    "application/vnd.databricks.v1+cell": {
     "cellMetadata": {
      "byteLimit": 2048000,
      "rowLimit": 10000
     },
     "inputWidgets": {},
     "nuid": "1755ec1b-878c-4304-8481-e77d190249de",
     "showTitle": false,
     "tableResultSettingsMap": {},
     "title": ""
    }
   },
   "outputs": [],
   "source": [
    "df_policy_effect_2 = df_policy_effect.select(\n",
    "        \"location\", \"year\", \"month\",\n",
    "        \"covid_new_cases\", \"covid_total_cases\",\n",
    "        \"covid_new_deaths\", \"covid_total_deaths\",\n",
    "        \"monthly_covid_case_rank\", \"monthly_covid_new_case_rank\",\n",
    "        \"avg_school_close\", \"avg_work_close\", \"avg_stay_home\",\n",
    "        \"avg_travel_control\", \"avg_test_policy\", \"avg_trace\", \"avg_stringency_index\",\n",
    "        \"monthly_policy_strictness_rank\", \"monthly_travel_control_rank\"\n",
    "    )"
   ]
  },
  {
   "cell_type": "code",
   "execution_count": 0,
   "metadata": {
    "application/vnd.databricks.v1+cell": {
     "cellMetadata": {
      "byteLimit": 2048000,
      "rowLimit": 10000
     },
     "inputWidgets": {},
     "nuid": "b5977002-b14c-41eb-b913-f9121c459584",
     "showTitle": false,
     "tableResultSettingsMap": {},
     "title": ""
    }
   },
   "outputs": [],
   "source": [
    "df_policy_effect_3 = df_policy_effect_2 \\\n",
    "    .withColumn(\"high_stringency_flag\", when(col(\"avg_stringency_index\") > 70, 1).otherwise(0)) \\\n",
    "    .withColumn(\"strict_travel_control_flag\", when(col(\"avg_travel_control\") >= 3, 1).otherwise(0)) \\\n",
    "    .withColumn(\"potential_policy_effective\",\n",
    "                when((col(\"high_stringency_flag\") == 1) & (col(\"monthly_covid_new_case_rank\") >= 10), 1).otherwise(0))"
   ]
  },
  {
   "cell_type": "code",
   "execution_count": 0,
   "metadata": {
    "application/vnd.databricks.v1+cell": {
     "cellMetadata": {
      "byteLimit": 2048000,
      "rowLimit": 10000
     },
     "inputWidgets": {},
     "nuid": "33d1850d-ce27-4ba2-add0-c2d140f7af76",
     "showTitle": false,
     "tableResultSettingsMap": {},
     "title": ""
    }
   },
   "outputs": [],
   "source": [
    "df_policy_effect_3.write \\\n",
    "    .format(\"delta\") \\\n",
    "    .mode(\"overwrite\") \\\n",
    "    .partitionBy(\"year\", \"month\") \\\n",
    "    .save(\"/mnt/gold/policy_effect_on_covid\")"
   ]
  }
 ],
 "metadata": {
  "application/vnd.databricks.v1+notebook": {
   "computePreferences": null,
   "dashboards": [],
   "environmentMetadata": {
    "base_environment": "",
    "environment_version": "2"
   },
   "inputWidgetPreferences": null,
   "language": "python",
   "notebookMetadata": {
    "pythonIndentUnit": 4
   },
   "notebookName": "policy_effect_on_cases",
   "widgets": {}
  },
  "language_info": {
   "name": "python"
  }
 },
 "nbformat": 4,
 "nbformat_minor": 0
}
