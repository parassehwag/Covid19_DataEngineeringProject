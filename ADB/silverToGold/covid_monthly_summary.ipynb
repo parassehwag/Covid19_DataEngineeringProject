{
 "cells": [
  {
   "cell_type": "code",
   "execution_count": 0,
   "metadata": {
    "application/vnd.databricks.v1+cell": {
     "cellMetadata": {
      "byteLimit": 2048000,
      "rowLimit": 10000
     },
     "inputWidgets": {},
     "nuid": "54c4e9da-c1b8-4442-b7d0-75597ad78af2",
     "showTitle": false,
     "tableResultSettingsMap": {},
     "title": ""
    }
   },
   "outputs": [],
   "source": [
    "df = spark.read.format(\"delta\").load(\"/mnt/silver/covid_combined\")"
   ]
  },
  {
   "cell_type": "code",
   "execution_count": 0,
   "metadata": {
    "application/vnd.databricks.v1+cell": {
     "cellMetadata": {
      "byteLimit": 2048000,
      "rowLimit": 10000
     },
     "inputWidgets": {},
     "nuid": "6bf000fb-74e8-4964-8949-244039b4279b",
     "showTitle": false,
     "tableResultSettingsMap": {},
     "title": ""
    }
   },
   "outputs": [],
   "source": [
    "df.createOrReplaceGlobalTempView(\"covidCombined\")\n",
    "spark.catalog.cacheTable(\"global_temp.covidCombined\")"
   ]
  },
  {
   "cell_type": "code",
   "execution_count": 0,
   "metadata": {
    "application/vnd.databricks.v1+cell": {
     "cellMetadata": {
      "byteLimit": 2048000,
      "rowLimit": 10000
     },
     "inputWidgets": {},
     "nuid": "ba26d65a-a8d5-4b65-ad30-45f875180139",
     "showTitle": false,
     "tableResultSettingsMap": {},
     "title": ""
    }
   },
   "outputs": [],
   "source": [
    "df_2 = spark.sql(\"\"\"\n",
    "          with cte as (\n",
    "          select location,year,month,sum(covid_total_cases) as covid_total_cases, sum(covid_new_cases) as covid_new_cases,\n",
    "          sum(covid_total_deaths) as covid_total_deaths ,sum(covid_new_deaths) as covid_new_deaths,sum(covid_total_tests) as covid_total_tests,\n",
    "          sum(covid_new_tests) as covid_new_tests, sum(covid_total_vax) as covid_total_vax,sum(covid_people_vax) as covid_people_vax, \n",
    "          sum(covid_fully_vax) as covid_fully_vax\n",
    "          from global_temp.covidCombined\n",
    "          group by location,year,month)\n",
    "\n",
    "          select *,dense_rank() over (partition by location,year order by covid_total_cases desc) as monthly_covid_case_rank,\n",
    "          dense_rank() over (partition by location,year order by covid_new_cases) as monthly_covid_new_case_rank from cte\n",
    "          order by location,year,monthly_covid_case_rank\n",
    "          \"\"\")"
   ]
  },
  {
   "cell_type": "code",
   "execution_count": 0,
   "metadata": {
    "application/vnd.databricks.v1+cell": {
     "cellMetadata": {
      "byteLimit": 2048000,
      "rowLimit": 10000
     },
     "inputWidgets": {},
     "nuid": "59a7ef28-1b40-49c8-be75-43cda13f4798",
     "showTitle": false,
     "tableResultSettingsMap": {},
     "title": ""
    }
   },
   "outputs": [],
   "source": [
    "df_2.write \\\n",
    "    .format(\"delta\") \\\n",
    "    .mode(\"overwrite\") \\\n",
    "    .partitionBy(\"year\",\"month\") \\\n",
    "    .save(\"/mnt/gold/covid_monthly_summary\")"
   ]
  }
 ],
 "metadata": {
  "application/vnd.databricks.v1+notebook": {
   "computePreferences": null,
   "dashboards": [],
   "environmentMetadata": {
    "base_environment": "",
    "environment_version": "2"
   },
   "inputWidgetPreferences": null,
   "language": "python",
   "notebookMetadata": {
    "pythonIndentUnit": 4
   },
   "notebookName": "covid_monthly_summary",
   "widgets": {}
  },
  "language_info": {
   "name": "python"
  }
 },
 "nbformat": 4,
 "nbformat_minor": 0
}
