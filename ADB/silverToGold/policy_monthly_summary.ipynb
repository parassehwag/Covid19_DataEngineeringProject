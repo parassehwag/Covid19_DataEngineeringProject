{
 "cells": [
  {
   "cell_type": "code",
   "execution_count": 0,
   "metadata": {
    "application/vnd.databricks.v1+cell": {
     "cellMetadata": {
      "byteLimit": 2048000,
      "rowLimit": 10000
     },
     "inputWidgets": {},
     "nuid": "cac7d35f-f1a2-48d7-99a6-492f5bcc3725",
     "showTitle": false,
     "tableResultSettingsMap": {},
     "title": ""
    }
   },
   "outputs": [],
   "source": [
    "df = spark.sql(\"\"\"\n",
    "    with cte as (\n",
    "        select \n",
    "            location,year,month,\n",
    "            round(avg(case when policy_school_close = -1 then null else policy_school_close end), 2) as avg_school_close,    \n",
    "            round(avg(case when policy_work_close = -1 then null else policy_work_close end), 2) as avg_work_close,     \n",
    "            round(avg(case when policy_stay_home = -1 then null else policy_stay_home end), 2) as avg_stay_home,   \n",
    "            round(avg(case when policy_travel_control = -1 then null else policy_travel_control end), 2) as avg_travel_control,     \n",
    "            round(avg(case when policy_test_policy = -1 then null else policy_test_policy end), 2) as avg_test_policy, \n",
    "            round(avg(case when policy_trace = -1 then null else policy_trace end), 2) as avg_trace,\n",
    "            round(avg(case when policy_stringency = 0 then null else policy_stringency end), 2) as avg_stringency_index \n",
    "        FROM global_temp.covidcombined\n",
    "        GROUP BY location, year, month\n",
    "    )\n",
    "\n",
    "    SELECT *,dense_rank() OVER (PARTITION BY location,year ORDER BY avg_stringency_index DESC) AS monthly_policy_strictness_rank,\n",
    "        dense_rank() OVER (PARTITION BY location,year ORDER BY avg_travel_control DESC) AS monthly_travel_control_rank\n",
    "    FROM cte\n",
    "    ORDER BY location,year, monthly_policy_strictness_rank\n",
    "\"\"\")\n"
   ]
  },
  {
   "cell_type": "code",
   "execution_count": 0,
   "metadata": {
    "application/vnd.databricks.v1+cell": {
     "cellMetadata": {
      "byteLimit": 2048000,
      "rowLimit": 10000
     },
     "inputWidgets": {},
     "nuid": "439319c4-79fd-4fca-ab30-264e485cf519",
     "showTitle": false,
     "tableResultSettingsMap": {},
     "title": ""
    }
   },
   "outputs": [],
   "source": [
    "df_2 = df.fillna({\n",
    "    \"avg_school_close\": -1,\n",
    "    \"avg_work_close\": -1,\n",
    "    \"avg_stay_home\": -1,\n",
    "    \"avg_travel_control\": -1,\n",
    "    \"avg_test_policy\": -1,\n",
    "    \"avg_trace\": -1,\n",
    "    \"avg_stringency_index\": -1\n",
    "})"
   ]
  },
  {
   "cell_type": "code",
   "execution_count": 0,
   "metadata": {
    "application/vnd.databricks.v1+cell": {
     "cellMetadata": {
      "byteLimit": 2048000,
      "rowLimit": 10000
     },
     "inputWidgets": {},
     "nuid": "d88d9045-efa3-4332-9e7d-1915c9aa3813",
     "showTitle": false,
     "tableResultSettingsMap": {},
     "title": ""
    }
   },
   "outputs": [],
   "source": [
    "df_2.write \\\n",
    "    .format(\"delta\") \\\n",
    "    .mode(\"overwrite\") \\\n",
    "    .partitionBy(\"year\", \"month\") \\\n",
    "    .save(\"/mnt/gold/monthly_policy_summary\")"
   ]
  }
 ],
 "metadata": {
  "application/vnd.databricks.v1+notebook": {
   "computePreferences": null,
   "dashboards": [],
   "environmentMetadata": {
    "base_environment": "",
    "environment_version": "2"
   },
   "inputWidgetPreferences": null,
   "language": "python",
   "notebookMetadata": {
    "pythonIndentUnit": 4
   },
   "notebookName": "policy_monthly_summary",
   "widgets": {}
  },
  "language_info": {
   "name": "python"
  }
 },
 "nbformat": 4,
 "nbformat_minor": 0
}
