{
 "cells": [
  {
   "cell_type": "code",
   "execution_count": 0,
   "metadata": {
    "application/vnd.databricks.v1+cell": {
     "cellMetadata": {
      "byteLimit": 2048000,
      "rowLimit": 10000
     },
     "inputWidgets": {},
     "nuid": "79034fda-946a-4eb7-b7dd-63386c48d7b1",
     "showTitle": false,
     "tableResultSettingsMap": {},
     "title": ""
    }
   },
   "outputs": [],
   "source": [
    "from pyspark.sql.functions import *"
   ]
  },
  {
   "cell_type": "code",
   "execution_count": 0,
   "metadata": {
    "application/vnd.databricks.v1+cell": {
     "cellMetadata": {
      "byteLimit": 2048000,
      "rowLimit": 10000
     },
     "inputWidgets": {},
     "nuid": "3c9fe4ad-980d-40ab-b43b-db13659270e5",
     "showTitle": false,
     "tableResultSettingsMap": {},
     "title": ""
    }
   },
   "outputs": [],
   "source": [
    "df_cases = spark.read.format(\"delta\").load(\"/mnt/gold/covid_monthly_summary\")\n",
    "df_mobility = spark.read.format(\"delta\").load(\"/mnt/gold/monthly_mobility_summary\")"
   ]
  },
  {
   "cell_type": "code",
   "execution_count": 0,
   "metadata": {
    "application/vnd.databricks.v1+cell": {
     "cellMetadata": {
      "byteLimit": 2048000,
      "rowLimit": 10000
     },
     "inputWidgets": {},
     "nuid": "f9b8d6ec-6ca7-49b4-b91c-9aaa8cb2b865",
     "showTitle": false,
     "tableResultSettingsMap": {},
     "title": ""
    }
   },
   "outputs": [],
   "source": [
    "df_mobility_effect = df_mobility.alias(\"m\") \\\n",
    "    .join(df_cases.alias(\"c\"),\n",
    "          on=[\"location\", \"year\", \"month\"],\n",
    "          how=\"inner\")"
   ]
  },
  {
   "cell_type": "code",
   "execution_count": 0,
   "metadata": {
    "application/vnd.databricks.v1+cell": {
     "cellMetadata": {
      "byteLimit": 2048000,
      "rowLimit": 10000
     },
     "inputWidgets": {},
     "nuid": "8c2b6925-8d37-4b6b-94c6-f5aafa0ab0b0",
     "showTitle": false,
     "tableResultSettingsMap": {},
     "title": ""
    }
   },
   "outputs": [],
   "source": [
    "df_mobility_effect_2 = df_mobility_effect.select(\n",
    "        \"location\", \"year\", \"month\",\n",
    "        \"covid_new_cases\", \"covid_total_cases\", \"monthly_covid_case_rank\", \"monthly_covid_new_case_rank\",\n",
    "        \"avg_retail\", \"avg_grocery\", \"avg_workplace\", \"avg_home\",\"workplace_reduction_rank\",\n",
    "        \"home_stay_rank\"\n",
    "    )"
   ]
  },
  {
   "cell_type": "code",
   "execution_count": 0,
   "metadata": {
    "application/vnd.databricks.v1+cell": {
     "cellMetadata": {
      "byteLimit": 2048000,
      "rowLimit": 10000
     },
     "inputWidgets": {},
     "nuid": "5d7ea7db-abf1-496d-ad32-06650e1c9f73",
     "showTitle": false,
     "tableResultSettingsMap": {},
     "title": ""
    }
   },
   "outputs": [],
   "source": [
    "df_mobility_effect_3 = df_mobility_effect_2 \\\n",
    "    .withColumn(\"low_mobility_flag\", when(col(\"avg_workplace\") < -30, 1).otherwise(0)) \\\n",
    "    .withColumn(\"high_home_stay_flag\", when(col(\"avg_home\") > 10, 1).otherwise(0)) \\\n",
    "    .withColumn(\"mobility_effective_flag\",\n",
    "                when((col(\"low_mobility_flag\") == 1) & (col(\"monthly_covid_new_case_rank\") >= 10), 1).otherwise(0))"
   ]
  },
  {
   "cell_type": "code",
   "execution_count": 0,
   "metadata": {
    "application/vnd.databricks.v1+cell": {
     "cellMetadata": {
      "byteLimit": 2048000,
      "rowLimit": 10000
     },
     "inputWidgets": {},
     "nuid": "4f2286e9-26e8-4060-89bd-b29bdd21faaa",
     "showTitle": false,
     "tableResultSettingsMap": {},
     "title": ""
    }
   },
   "outputs": [],
   "source": [
    "df_mobility_effect_3.write.format(\"delta\") \\\n",
    "    .mode(\"overwrite\") \\\n",
    "    .partitionBy(\"year\", \"month\") \\\n",
    "    .save(\"/mnt/gold/mobility_effects\")"
   ]
  }
 ],
 "metadata": {
  "application/vnd.databricks.v1+notebook": {
   "computePreferences": null,
   "dashboards": [],
   "environmentMetadata": {
    "base_environment": "",
    "environment_version": "2"
   },
   "inputWidgetPreferences": null,
   "language": "python",
   "notebookMetadata": {
    "pythonIndentUnit": 4
   },
   "notebookName": "mobility_effects_on_cases",
   "widgets": {}
  },
  "language_info": {
   "name": "python"
  }
 },
 "nbformat": 4,
 "nbformat_minor": 0
}
